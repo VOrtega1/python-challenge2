{
 "cells": [
  {
   "cell_type": "code",
   "execution_count": 1,
   "metadata": {},
   "outputs": [
    {
     "name": "stdout",
     "output_type": "stream",
     "text": [
      "Financial Analysis\n",
      "----------------------------\n",
      "Months: 86\n",
      "Total: $38382578\n",
      "Average Monthly Change: -2315.12\n",
      "Greatest Increase in Profits: Feb-2012 ($1926159)\n",
      "Greatest Decrease in Profits: Sep-2013 ($43)\n"
     ]
    }
   ],
   "source": [
    "import csv\n",
    "import os\n",
    " \n",
    "# pull csv file\n",
    "budgetcsv = os.path.join ('Resources','budget_data.csv')\n",
    "\n",
    "# data placeholder\n",
    "months = []\n",
    "net_total = []\n",
    " \n",
    "with open (budgetcsv, newline = \"\") as csvfile:\n",
    "    readcsv = csv.reader(csvfile, delimiter = ',')\n",
    " \n",
    "    csv_header = next(csvfile)\n",
    "     \n",
    "    #put the data into lists\n",
    "    for row in readcsv:\n",
    "        months.append(row[0])\n",
    "        net_total.append(int(row[1]))\n",
    "         \n",
    "    #month count\n",
    "    month_count = len(months)\n",
    "     \n",
    "    #loop variables\n",
    "    x = 1\n",
    "    y = 0\n",
    "     \n",
    "    #change placeholder\n",
    "    chng_avg = (net_total[1]-net_total[0])\n",
    "     \n",
    "    #placeholder changes \n",
    "    changes = []\n",
    "     \n",
    "    # create list with loop for month to month calculations\n",
    "    for month in range(month_count-1):\n",
    "        chng_avg = (net_total[x] - net_total[y])\n",
    "        changes.append(int(chng_avg))\n",
    "        x+=1\n",
    "        y+=1\n",
    "         \n",
    "     \n",
    "    #Calcuate the average monthly change and round it    \n",
    "    avg_month = round(sum(changes)/(month_count -1),2)\n",
    " \n",
    "    #find min & max \n",
    "    chg_min = min(changes)\n",
    "    chg_max = max(changes)\n",
    " \n",
    "    #rtrn index for list positions\n",
    "    minChng = changes.index(chg_min)\n",
    "    maxChng = changes.index(chg_max)\n",
    "     \n",
    "    #find min & max by month\n",
    "    minChng_month = months[minChng + 1]\n",
    "    maxChng_month = months[maxChng + 1]\n",
    "   \n",
    " \n",
    "#Print the values to console\n",
    " \n",
    "print(\"Financial Analysis\")\n",
    "print(\"----------------------------\")\n",
    "print(f\"Months: {len(months)}\")\n",
    "print(f\"Total: ${sum(net_total)}\")\n",
    "print(f\"Average Monthly Change: {avg_month}\")\n",
    "print(f\"Greatest Increase in Profits: {maxChng_month} (${chg_max})\")\n",
    "print(f\"Greatest Decrease in Profits: {minChng_month} (${minChng})\")\n",
    " \n",
    "#Write text file output\n",
    "final_analysis = open(\"Financial_Analysis.txt\",\"w\")\n",
    " \n",
    "final_analysis.write(\"Financial Analysis\\n\")\n",
    "final_analysis.write(\"-------------------\\n\")\n",
    "final_analysis.write(f\"Months: {len(months)}\\n\")\n",
    "final_analysis.write(f\"Total: ${sum(net_total)}\\n\")\n",
    "final_analysis.write(f\"Average Monthly Change: {avg_month}\\n\")\n",
    "final_analysis.write(f\"Greatest Increase in Profits: {maxChng_month} (${maxChng})\\n\")\n",
    "final_analysis.write(f\"Greatest Decrease in Profits: {minChng_month} (${minChng})\\n\")\n",
    " \n",
    "  \n",
    "final_analysis.close() "
   ]
  },
  {
   "cell_type": "code",
   "execution_count": null,
   "metadata": {},
   "outputs": [],
   "source": []
  },
  {
   "cell_type": "code",
   "execution_count": null,
   "metadata": {},
   "outputs": [],
   "source": []
  },
  {
   "cell_type": "code",
   "execution_count": null,
   "metadata": {},
   "outputs": [],
   "source": []
  },
  {
   "cell_type": "code",
   "execution_count": null,
   "metadata": {},
   "outputs": [],
   "source": []
  }
 ],
 "metadata": {
  "kernelspec": {
   "display_name": "Python 3",
   "language": "python",
   "name": "python3"
  },
  "language_info": {
   "codemirror_mode": {
    "name": "ipython",
    "version": 3
   },
   "file_extension": ".py",
   "mimetype": "text/x-python",
   "name": "python",
   "nbconvert_exporter": "python",
   "pygments_lexer": "ipython3",
   "version": "3.8.5"
  }
 },
 "nbformat": 4,
 "nbformat_minor": 4
}
